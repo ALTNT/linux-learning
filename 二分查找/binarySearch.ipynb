{
 "metadata": {
  "language_info": {
   "codemirror_mode": {
    "name": "ipython",
    "version": 3
   },
   "file_extension": ".py",
   "mimetype": "text/x-python",
   "name": "python",
   "nbconvert_exporter": "python",
   "pygments_lexer": "ipython3",
   "version": "3.6.13"
  },
  "orig_nbformat": 2,
  "kernelspec": {
   "name": "python3613jvsc74a57bd0686f4b6dbcf6d82b2ce47e28f70d5482515e28f2b66766744ea07bbede078933",
   "display_name": "Python 3.6.13 64-bit ('ai': conda)"
  },
  "metadata": {
   "interpreter": {
    "hash": "686f4b6dbcf6d82b2ce47e28f70d5482515e28f2b66766744ea07bbede078933"
   }
  }
 },
 "nbformat": 4,
 "nbformat_minor": 2,
 "cells": [
  {
   "cell_type": "code",
   "execution_count": 1,
   "metadata": {},
   "outputs": [],
   "source": [
    "def binary_search(nums, target):\n",
    "    left = 0\n",
    "    right = len(nums) - 1   # 注意\n",
    "\n",
    "    while(left <= right):\n",
    "        mid = left + (right - left) // 2 # 防止越界\n",
    "        if nums[mid] == target:\n",
    "            return mid\n",
    "        elif nums[mid] < target:\n",
    "            left = mid + 1  # 注意\n",
    "        elif nums[mid] > target:\n",
    "            right = mid + 1 # 注意"
   ]
  },
  {
   "cell_type": "code",
   "execution_count": 2,
   "metadata": {},
   "outputs": [
    {
     "output_type": "execute_result",
     "data": {
      "text/plain": [
       "9"
      ]
     },
     "metadata": {},
     "execution_count": 2
    }
   ],
   "source": [
    "binary_search([0, 1, 2, 3, 4, 5, 6, 7, 8, 9], 9)"
   ]
  },
  {
   "cell_type": "code",
   "execution_count": 3,
   "metadata": {},
   "outputs": [],
   "source": [
    "def left_bound(nums, target):\n",
    "    left = 0\n",
    "    right = len(nums) - 1   \n",
    "\n",
    "    # 搜索区间为[left, right]\n",
    "    while(left <= right):\n",
    "        mid = left + (right - left) // 2\n",
    "        # 搜索区间变为 [mid+1, right]\n",
    "        if nums[mid] < target:\n",
    "            left = mid + 1\n",
    "        # 搜索区间变为 [left, mid-1]    \n",
    "        elif nums[mid] > target:\n",
    "            right = mid - 1 \n",
    "        # 收缩右侧边界\n",
    "        elif nums[mid] == target:\n",
    "            right = mid - 1\n",
    "\n",
    "    if (left >= len(nums) or nums[left] != target):\n",
    "        return None\n",
    "\n",
    "    return left"
   ]
  },
  {
   "cell_type": "code",
   "execution_count": 4,
   "metadata": {},
   "outputs": [
    {
     "output_type": "execute_result",
     "data": {
      "text/plain": [
       "5"
      ]
     },
     "metadata": {},
     "execution_count": 4
    }
   ],
   "source": [
    "left_bound([0, 1, 2, 3, 4, 5, 5, 7, 8, 9], 5)"
   ]
  },
  {
   "cell_type": "code",
   "execution_count": 16,
   "metadata": {},
   "outputs": [],
   "source": [
    "def right_bound(nums, target):\n",
    "    left = 0\n",
    "    right = len(nums) - 1   \n",
    "\n",
    "    # 搜索区间为[left, right]\n",
    "    while(left <= right):\n",
    "        mid = left + (right - left) // 2\n",
    "        # 搜索区间变为 [mid+1, right]\n",
    "        if nums[mid] < target:\n",
    "            left = mid + 1\n",
    "        # 搜索区间变为 [left, mid-1]    \n",
    "        elif nums[mid] > target:\n",
    "            right = mid - 1 \n",
    "        # 收缩左侧边界\n",
    "        elif nums[mid] == target:\n",
    "            left = mid + 1\n",
    "\n",
    "    if (right < 0 or nums[right] != target):\n",
    "        return None\n",
    "\n",
    "    return right"
   ]
  },
  {
   "cell_type": "code",
   "execution_count": 17,
   "metadata": {
    "tags": []
   },
   "outputs": [
    {
     "output_type": "execute_result",
     "data": {
      "text/plain": [
       "6"
      ]
     },
     "metadata": {},
     "execution_count": 17
    }
   ],
   "source": [
    "right_bound([0, 1, 2, 3, 4, 5, 5, 7, 8, 9], 5)"
   ]
  },
  {
   "cell_type": "code",
   "execution_count": null,
   "metadata": {},
   "outputs": [],
   "source": []
  }
 ]
}