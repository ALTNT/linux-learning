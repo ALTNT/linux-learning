{
 "metadata": {
  "language_info": {
   "codemirror_mode": {
    "name": "ipython",
    "version": 3
   },
   "file_extension": ".py",
   "mimetype": "text/x-python",
   "name": "python",
   "nbconvert_exporter": "python",
   "pygments_lexer": "ipython3",
   "version": "3.6.13"
  },
  "orig_nbformat": 2,
  "kernelspec": {
   "name": "python3613jvsc74a57bd0686f4b6dbcf6d82b2ce47e28f70d5482515e28f2b66766744ea07bbede078933",
   "display_name": "Python 3.6.13 64-bit ('ai': conda)"
  },
  "metadata": {
   "interpreter": {
    "hash": "686f4b6dbcf6d82b2ce47e28f70d5482515e28f2b66766744ea07bbede078933"
   }
  }
 },
 "nbformat": 4,
 "nbformat_minor": 2,
 "cells": [
  {
   "source": [
    "## 一、斐波那契数列"
   ],
   "cell_type": "markdown",
   "metadata": {}
  },
  {
   "cell_type": "code",
   "execution_count": 1,
   "metadata": {},
   "outputs": [],
   "source": [
    "def fib(n):\n",
    "    i, a, b = 0, 0 , 1\n",
    "    while i <= n:\n",
    "        yield a\n",
    "        a, b = b, a + b\n",
    "        i += 1"
   ]
  },
  {
   "cell_type": "code",
   "execution_count": 2,
   "metadata": {},
   "outputs": [
    {
     "output_type": "stream",
     "name": "stdout",
     "text": [
      "0\n1\n1\n2\n3\n5\n8\n13\n21\n34\n55\n89\n144\n233\n377\n610\n987\n1597\n2584\n4181\n6765\n"
     ]
    }
   ],
   "source": [
    "for i in fib(20):\n",
    "    print(i)"
   ]
  },
  {
   "cell_type": "code",
   "execution_count": 21,
   "metadata": {},
   "outputs": [],
   "source": [
    "def minDistance(s1, s2):\n",
    "    def dp(i, j):\n",
    "        print(s1[i], s2[j])\n",
    "        # base case\n",
    "        if i == -1: return j + 1\n",
    "        if j == -1: return i + 1\n",
    "\n",
    "        if s1[i] == s2[j]:\n",
    "            return dp(i - 1, j - 1) # 啥都不做\n",
    "        else:\n",
    "            return min(\n",
    "                dp(i, j - 1) + 1,           # 插入\n",
    "                dp(i - 1, j) + 1,           # 删除\n",
    "                dp(i - 1, j - 1) + 1        # 替换\n",
    "            )\n",
    "    # i, j 初始化指向最后一个索引\n",
    "    return dp(len(s1) - 1, len(s2) - 1)"
   ]
  },
  {
   "cell_type": "code",
   "execution_count": 22,
   "metadata": {},
   "outputs": [
    {
     "output_type": "stream",
     "name": "stdout",
     "text": [
      "d e\nd l\nd p\nd p\nd a\nd e\na a\nr e\na e\na p\na a\nr e\nr p\nr a\nr e\nd a\nd e\nd p\nd a\nr a\nr e\nd a\nd e\na a\nr e\na p\na p\na a\nr e\nr p\nr a\nr e\nd a\nd e\nd p\nd a\nr a\nr e\nd a\nd e\nr p\nr p\nr a\nr e\nd a\nd e\nd p\nd a\nd p\nd p\nr p\nr a\nr e\nd a\nd e\nd p\nd a\na p\na a\nr e\nr p\nr a\nr e\nd a\nd e\nd p\nd a\nr a\nr e\nd a\nd e\na l\na p\na p\na a\nr e\nr p\nr a\nr e\nd a\nd e\nd p\nd a\nr a\nr e\nd a\nd e\nr p\nr p\nr a\nr e\nd a\nd e\nd p\nd a\nd p\nd p\nr p\nr a\nr e\nd a\nd e\nd p\nd a\nr l\nr p\nr p\nr a\nr e\nd a\nd e\nd p\nd a\nd p\nd p\nd l\nd p\nr p\nr p\nr a\nr e\nd a\nd e\nd p\nd a\nd p\nd p\na p\na p\na a\nr e\nr p\nr a\nr e\nd a\nd e\nd p\nd a\nr a\nr e\nd a\nd e\nr p\nr p\nr a\nr e\nd a\nd e\nd p\nd a\nd p\nd p\nr p\nr a\nr e\nd a\nd e\nd p\nd a\na e\na l\na p\na p\na a\nr e\nr p\nr a\nr e\nd a\nd e\nd p\nd a\nr a\nr e\nd a\nd e\nr p\nr p\nr a\nr e\nd a\nd e\nd p\nd a\nd p\nd p\nr p\nr a\nr e\nd a\nd e\nd p\nd a\nr l\nr p\nr p\nr a\nr e\nd a\nd e\nd p\nd a\nd p\nd p\nd l\nd p\nr p\nr p\nr a\nr e\nd a\nd e\nd p\nd a\nd p\nd p\nr e\nr l\nr p\nr p\nr a\nr e\nd a\nd e\nd p\nd a\nd p\nd p\nd l\nd p\nd e\nd l\nr l\nr p\nr p\nr a\nr e\nd a\nd e\nd p\nd a\nd p\nd p\nd l\nd p\na l\na p\na p\na a\nr e\nr p\nr a\nr e\nd a\nd e\nd p\nd a\nr a\nr e\nd a\nd e\nr p\nr p\nr a\nr e\nd a\nd e\nd p\nd a\nd p\nd p\nr p\nr a\nr e\nd a\nd e\nd p\nd a\nr l\nr p\nr p\nr a\nr e\nd a\nd e\nd p\nd a\nd p\nd p\nd l\nd p\nr p\nr p\nr a\nr e\nd a\nd e\nd p\nd a\nd p\nd p\n5\n"
     ]
    }
   ],
   "source": [
    "print(minDistance(\"rad\", \"apple\"))"
   ]
  },
  {
   "cell_type": "code",
   "execution_count": null,
   "metadata": {},
   "outputs": [],
   "source": []
  }
 ]
}