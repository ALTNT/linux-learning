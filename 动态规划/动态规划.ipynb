{
 "metadata": {
  "language_info": {
   "codemirror_mode": {
    "name": "ipython",
    "version": 3
   },
   "file_extension": ".py",
   "mimetype": "text/x-python",
   "name": "python",
   "nbconvert_exporter": "python",
   "pygments_lexer": "ipython3",
   "version": "3.6.13-final"
  },
  "orig_nbformat": 2,
  "kernelspec": {
   "name": "python3613jvsc74a57bd02c999aace1426b170fb92959bf47f82e2d5ce311ccd769ab0405d9bddd1c9e67",
   "display_name": "Python 3.6.13 64-bit ('ai': conda)"
  },
  "metadata": {
   "interpreter": {
    "hash": "2c999aace1426b170fb92959bf47f82e2d5ce311ccd769ab0405d9bddd1c9e67"
   }
  }
 },
 "nbformat": 4,
 "nbformat_minor": 2,
 "cells": [
  {
   "source": [
    "## 一、斐波那契数列"
   ],
   "cell_type": "markdown",
   "metadata": {}
  },
  {
   "cell_type": "code",
   "execution_count": 1,
   "metadata": {},
   "outputs": [],
   "source": [
    "def fib(n):\n",
    "    i, a, b = 0, 0 , 1\n",
    "    while i <= n:\n",
    "        yield a\n",
    "        a, b = b, a + b\n",
    "        i += 1"
   ]
  },
  {
   "cell_type": "code",
   "execution_count": 2,
   "metadata": {},
   "outputs": [
    {
     "output_type": "stream",
     "name": "stdout",
     "text": [
      "0\n1\n1\n2\n3\n5\n8\n13\n21\n34\n55\n89\n144\n233\n377\n610\n987\n1597\n2584\n4181\n6765\n"
     ]
    }
   ],
   "source": [
    "for i in fib(20):\n",
    "    print(i)"
   ]
  }
 ]
}