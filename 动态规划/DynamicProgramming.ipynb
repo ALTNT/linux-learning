{
 "metadata": {
  "language_info": {
   "codemirror_mode": {
    "name": "ipython",
    "version": 3
   },
   "file_extension": ".py",
   "mimetype": "text/x-python",
   "name": "python",
   "nbconvert_exporter": "python",
   "pygments_lexer": "ipython3",
   "version": "3.6.13"
  },
  "orig_nbformat": 2,
  "kernelspec": {
   "name": "python3613jvsc74a57bd0686f4b6dbcf6d82b2ce47e28f70d5482515e28f2b66766744ea07bbede078933",
   "display_name": "Python 3.6.13 64-bit ('ai': conda)"
  },
  "metadata": {
   "interpreter": {
    "hash": "686f4b6dbcf6d82b2ce47e28f70d5482515e28f2b66766744ea07bbede078933"
   }
  }
 },
 "nbformat": 4,
 "nbformat_minor": 2,
 "cells": [
  {
   "source": [
    "# 动态规划"
   ],
   "cell_type": "markdown",
   "metadata": {}
  },
  {
   "source": [
    "## 一、斐波那契数列"
   ],
   "cell_type": "markdown",
   "metadata": {}
  },
  {
   "cell_type": "code",
   "execution_count": 2,
   "metadata": {},
   "outputs": [],
   "source": [
    "def fib(N):\n",
    "    if(N == 1 or N == 2):\n",
    "        return 1\n",
    "    else:\n",
    "        return fib(N -1) + fib(N - 2)\n"
   ]
  },
  {
   "cell_type": "code",
   "execution_count": 3,
   "metadata": {},
   "outputs": [
    {
     "output_type": "execute_result",
     "data": {
      "text/plain": [
       "6765"
      ]
     },
     "metadata": {},
     "execution_count": 3
    }
   ],
   "source": [
    "fib(20)"
   ]
  },
  {
   "cell_type": "code",
   "execution_count": null,
   "metadata": {},
   "outputs": [],
   "source": []
  }
 ]
}